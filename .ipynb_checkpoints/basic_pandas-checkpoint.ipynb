{
 "cells": [
  {
   "cell_type": "markdown",
   "metadata": {},
   "source": [
    "# Assignment 7: Pandas Fundamentals with Earthquake Data\n",
    "\n",
    "In this assignment, we will review pandas fundamentals, such as how to\n",
    "\n",
    "- Open csv files\n",
    "- Manipulate dataframe indexes\n",
    "- Parse date columns\n",
    "- Examine basic dataframe statistics\n",
    "- Manipulate text columns and extract values\n",
    "- Plot dataframe contents using\n",
    "  - Bar charts\n",
    "  - Histograms\n",
    "  - Scatter plots"
   ]
  },
  {
   "cell_type": "markdown",
   "metadata": {},
   "source": [
    "First, import Numpy, Pandas and Matplotlib and set the display options."
   ]
  },
  {
   "cell_type": "code",
   "execution_count": 1,
   "metadata": {},
   "outputs": [],
   "source": [
    "import numpy as np\n",
    "from matplotlib import pyplot as plt\n",
    "import pandas as pd"
   ]
  },
  {
   "cell_type": "markdown",
   "metadata": {},
   "source": [
    "Data for this assignment in .csv format downloaded from the [USGS Earthquakes Database](https://earthquake.usgs.gov/earthquakes/search/).  You can search for your own earthquake catalog there, and choose to download in a .csv file format. If you'd prefer to skip making your own earthquake catalog file, one you can use is available at:\n",
    "\n",
    "http://www.ldeo.columbia.edu/~rpa/usgs_earthquakes_2014.csv\n",
    "\n",
    "Note: You don't need to download this file. You can open it directly with Pandas."
   ]
  },
  {
   "cell_type": "markdown",
   "metadata": {},
   "source": [
    "### 1) Use Pandas' read_csv function directly on this URL to open it as a DataFrame\n",
    "(Don't use any special options). Display the first few rows and the DataFrame info."
   ]
  },
  {
   "cell_type": "code",
   "execution_count": 4,
   "metadata": {},
   "outputs": [
    {
     "data": {
      "text/html": [
       "<div>\n",
       "<style scoped>\n",
       "    .dataframe tbody tr th:only-of-type {\n",
       "        vertical-align: middle;\n",
       "    }\n",
       "\n",
       "    .dataframe tbody tr th {\n",
       "        vertical-align: top;\n",
       "    }\n",
       "\n",
       "    .dataframe thead th {\n",
       "        text-align: right;\n",
       "    }\n",
       "</style>\n",
       "<table border=\"1\" class=\"dataframe\">\n",
       "  <thead>\n",
       "    <tr style=\"text-align: right;\">\n",
       "      <th></th>\n",
       "      <th>time</th>\n",
       "      <th>latitude</th>\n",
       "      <th>longitude</th>\n",
       "      <th>depth</th>\n",
       "      <th>mag</th>\n",
       "      <th>magType</th>\n",
       "      <th>nst</th>\n",
       "      <th>gap</th>\n",
       "      <th>dmin</th>\n",
       "      <th>rms</th>\n",
       "      <th>net</th>\n",
       "      <th>id</th>\n",
       "      <th>updated</th>\n",
       "      <th>place</th>\n",
       "      <th>type</th>\n",
       "    </tr>\n",
       "  </thead>\n",
       "  <tbody>\n",
       "    <tr>\n",
       "      <th>0</th>\n",
       "      <td>2014-01-31 23:53:37.000</td>\n",
       "      <td>60.252000</td>\n",
       "      <td>-152.708100</td>\n",
       "      <td>90.20</td>\n",
       "      <td>1.10</td>\n",
       "      <td>ml</td>\n",
       "      <td>NaN</td>\n",
       "      <td>NaN</td>\n",
       "      <td>NaN</td>\n",
       "      <td>0.2900</td>\n",
       "      <td>ak</td>\n",
       "      <td>ak11155107</td>\n",
       "      <td>2014-02-05T19:34:41.515Z</td>\n",
       "      <td>26km S of Redoubt Volcano, Alaska</td>\n",
       "      <td>earthquake</td>\n",
       "    </tr>\n",
       "    <tr>\n",
       "      <th>1</th>\n",
       "      <td>2014-01-31 23:48:35.452</td>\n",
       "      <td>37.070300</td>\n",
       "      <td>-115.130900</td>\n",
       "      <td>0.00</td>\n",
       "      <td>1.33</td>\n",
       "      <td>ml</td>\n",
       "      <td>4.0</td>\n",
       "      <td>171.43</td>\n",
       "      <td>0.342000</td>\n",
       "      <td>0.0247</td>\n",
       "      <td>nn</td>\n",
       "      <td>nn00436847</td>\n",
       "      <td>2014-02-01T01:35:09.000Z</td>\n",
       "      <td>32km S of Alamo, Nevada</td>\n",
       "      <td>earthquake</td>\n",
       "    </tr>\n",
       "    <tr>\n",
       "      <th>2</th>\n",
       "      <td>2014-01-31 23:47:24.000</td>\n",
       "      <td>64.671700</td>\n",
       "      <td>-149.252800</td>\n",
       "      <td>7.10</td>\n",
       "      <td>1.30</td>\n",
       "      <td>ml</td>\n",
       "      <td>NaN</td>\n",
       "      <td>NaN</td>\n",
       "      <td>NaN</td>\n",
       "      <td>1.0000</td>\n",
       "      <td>ak</td>\n",
       "      <td>ak11151142</td>\n",
       "      <td>2014-02-01T00:03:53.010Z</td>\n",
       "      <td>12km NNW of North Nenana, Alaska</td>\n",
       "      <td>earthquake</td>\n",
       "    </tr>\n",
       "    <tr>\n",
       "      <th>3</th>\n",
       "      <td>2014-01-31 23:30:54.000</td>\n",
       "      <td>63.188700</td>\n",
       "      <td>-148.957500</td>\n",
       "      <td>96.50</td>\n",
       "      <td>0.80</td>\n",
       "      <td>ml</td>\n",
       "      <td>NaN</td>\n",
       "      <td>NaN</td>\n",
       "      <td>NaN</td>\n",
       "      <td>1.0700</td>\n",
       "      <td>ak</td>\n",
       "      <td>ak11151135</td>\n",
       "      <td>2014-01-31T23:41:25.007Z</td>\n",
       "      <td>22km S of Cantwell, Alaska</td>\n",
       "      <td>earthquake</td>\n",
       "    </tr>\n",
       "    <tr>\n",
       "      <th>4</th>\n",
       "      <td>2014-01-31 23:30:52.210</td>\n",
       "      <td>32.616833</td>\n",
       "      <td>-115.692500</td>\n",
       "      <td>10.59</td>\n",
       "      <td>1.34</td>\n",
       "      <td>ml</td>\n",
       "      <td>6.0</td>\n",
       "      <td>285.00</td>\n",
       "      <td>0.043210</td>\n",
       "      <td>0.2000</td>\n",
       "      <td>ci</td>\n",
       "      <td>ci37171541</td>\n",
       "      <td>2014-02-01T00:13:20.107Z</td>\n",
       "      <td>10km WNW of Progreso, Mexico</td>\n",
       "      <td>earthquake</td>\n",
       "    </tr>\n",
       "    <tr>\n",
       "      <th>...</th>\n",
       "      <td>...</td>\n",
       "      <td>...</td>\n",
       "      <td>...</td>\n",
       "      <td>...</td>\n",
       "      <td>...</td>\n",
       "      <td>...</td>\n",
       "      <td>...</td>\n",
       "      <td>...</td>\n",
       "      <td>...</td>\n",
       "      <td>...</td>\n",
       "      <td>...</td>\n",
       "      <td>...</td>\n",
       "      <td>...</td>\n",
       "      <td>...</td>\n",
       "      <td>...</td>\n",
       "    </tr>\n",
       "    <tr>\n",
       "      <th>120103</th>\n",
       "      <td>2014-12-01 00:10:16.000</td>\n",
       "      <td>60.963900</td>\n",
       "      <td>-146.762900</td>\n",
       "      <td>14.80</td>\n",
       "      <td>3.80</td>\n",
       "      <td>ml</td>\n",
       "      <td>NaN</td>\n",
       "      <td>NaN</td>\n",
       "      <td>NaN</td>\n",
       "      <td>0.6900</td>\n",
       "      <td>ak</td>\n",
       "      <td>ak11453391</td>\n",
       "      <td>2015-03-24T18:25:07.628Z</td>\n",
       "      <td>29km SW of Valdez, Alaska</td>\n",
       "      <td>earthquake</td>\n",
       "    </tr>\n",
       "    <tr>\n",
       "      <th>120104</th>\n",
       "      <td>2014-12-01 00:09:39.000</td>\n",
       "      <td>58.869100</td>\n",
       "      <td>-154.415900</td>\n",
       "      <td>108.40</td>\n",
       "      <td>2.40</td>\n",
       "      <td>ml</td>\n",
       "      <td>NaN</td>\n",
       "      <td>NaN</td>\n",
       "      <td>NaN</td>\n",
       "      <td>0.6700</td>\n",
       "      <td>ak</td>\n",
       "      <td>ak11453395</td>\n",
       "      <td>2014-12-10T01:04:25.209Z</td>\n",
       "      <td>102km SSE of Old Iliamna, Alaska</td>\n",
       "      <td>earthquake</td>\n",
       "    </tr>\n",
       "    <tr>\n",
       "      <th>120105</th>\n",
       "      <td>2014-12-01 00:09:25.350</td>\n",
       "      <td>38.843498</td>\n",
       "      <td>-122.825836</td>\n",
       "      <td>2.37</td>\n",
       "      <td>0.43</td>\n",
       "      <td>md</td>\n",
       "      <td>8.0</td>\n",
       "      <td>107.00</td>\n",
       "      <td>0.008991</td>\n",
       "      <td>0.0300</td>\n",
       "      <td>nc</td>\n",
       "      <td>nc72358451</td>\n",
       "      <td>2014-12-01T01:15:02.814Z</td>\n",
       "      <td>9km WNW of Cobb, California</td>\n",
       "      <td>earthquake</td>\n",
       "    </tr>\n",
       "    <tr>\n",
       "      <th>120106</th>\n",
       "      <td>2014-12-01 00:05:54.000</td>\n",
       "      <td>65.152100</td>\n",
       "      <td>-148.992000</td>\n",
       "      <td>9.50</td>\n",
       "      <td>0.40</td>\n",
       "      <td>ml</td>\n",
       "      <td>NaN</td>\n",
       "      <td>NaN</td>\n",
       "      <td>NaN</td>\n",
       "      <td>0.6900</td>\n",
       "      <td>ak</td>\n",
       "      <td>ak11453390</td>\n",
       "      <td>2014-12-10T01:03:01.225Z</td>\n",
       "      <td>57km NW of Ester, Alaska</td>\n",
       "      <td>earthquake</td>\n",
       "    </tr>\n",
       "    <tr>\n",
       "      <th>120107</th>\n",
       "      <td>2014-12-01 00:04:05.000</td>\n",
       "      <td>60.227200</td>\n",
       "      <td>-147.024500</td>\n",
       "      <td>2.50</td>\n",
       "      <td>1.60</td>\n",
       "      <td>ml</td>\n",
       "      <td>NaN</td>\n",
       "      <td>NaN</td>\n",
       "      <td>NaN</td>\n",
       "      <td>0.7300</td>\n",
       "      <td>ak</td>\n",
       "      <td>ak11453389</td>\n",
       "      <td>2014-12-09T02:04:46.894Z</td>\n",
       "      <td>78km WSW of Cordova, Alaska</td>\n",
       "      <td>earthquake</td>\n",
       "    </tr>\n",
       "  </tbody>\n",
       "</table>\n",
       "<p>120108 rows × 15 columns</p>\n",
       "</div>"
      ],
      "text/plain": [
       "                           time   latitude   longitude   depth   mag magType  \\\n",
       "0       2014-01-31 23:53:37.000  60.252000 -152.708100   90.20  1.10      ml   \n",
       "1       2014-01-31 23:48:35.452  37.070300 -115.130900    0.00  1.33      ml   \n",
       "2       2014-01-31 23:47:24.000  64.671700 -149.252800    7.10  1.30      ml   \n",
       "3       2014-01-31 23:30:54.000  63.188700 -148.957500   96.50  0.80      ml   \n",
       "4       2014-01-31 23:30:52.210  32.616833 -115.692500   10.59  1.34      ml   \n",
       "...                         ...        ...         ...     ...   ...     ...   \n",
       "120103  2014-12-01 00:10:16.000  60.963900 -146.762900   14.80  3.80      ml   \n",
       "120104  2014-12-01 00:09:39.000  58.869100 -154.415900  108.40  2.40      ml   \n",
       "120105  2014-12-01 00:09:25.350  38.843498 -122.825836    2.37  0.43      md   \n",
       "120106  2014-12-01 00:05:54.000  65.152100 -148.992000    9.50  0.40      ml   \n",
       "120107  2014-12-01 00:04:05.000  60.227200 -147.024500    2.50  1.60      ml   \n",
       "\n",
       "        nst     gap      dmin     rms net          id  \\\n",
       "0       NaN     NaN       NaN  0.2900  ak  ak11155107   \n",
       "1       4.0  171.43  0.342000  0.0247  nn  nn00436847   \n",
       "2       NaN     NaN       NaN  1.0000  ak  ak11151142   \n",
       "3       NaN     NaN       NaN  1.0700  ak  ak11151135   \n",
       "4       6.0  285.00  0.043210  0.2000  ci  ci37171541   \n",
       "...     ...     ...       ...     ...  ..         ...   \n",
       "120103  NaN     NaN       NaN  0.6900  ak  ak11453391   \n",
       "120104  NaN     NaN       NaN  0.6700  ak  ak11453395   \n",
       "120105  8.0  107.00  0.008991  0.0300  nc  nc72358451   \n",
       "120106  NaN     NaN       NaN  0.6900  ak  ak11453390   \n",
       "120107  NaN     NaN       NaN  0.7300  ak  ak11453389   \n",
       "\n",
       "                         updated                              place  \\\n",
       "0       2014-02-05T19:34:41.515Z  26km S of Redoubt Volcano, Alaska   \n",
       "1       2014-02-01T01:35:09.000Z            32km S of Alamo, Nevada   \n",
       "2       2014-02-01T00:03:53.010Z   12km NNW of North Nenana, Alaska   \n",
       "3       2014-01-31T23:41:25.007Z         22km S of Cantwell, Alaska   \n",
       "4       2014-02-01T00:13:20.107Z       10km WNW of Progreso, Mexico   \n",
       "...                          ...                                ...   \n",
       "120103  2015-03-24T18:25:07.628Z          29km SW of Valdez, Alaska   \n",
       "120104  2014-12-10T01:04:25.209Z   102km SSE of Old Iliamna, Alaska   \n",
       "120105  2014-12-01T01:15:02.814Z        9km WNW of Cobb, California   \n",
       "120106  2014-12-10T01:03:01.225Z           57km NW of Ester, Alaska   \n",
       "120107  2014-12-09T02:04:46.894Z        78km WSW of Cordova, Alaska   \n",
       "\n",
       "              type  \n",
       "0       earthquake  \n",
       "1       earthquake  \n",
       "2       earthquake  \n",
       "3       earthquake  \n",
       "4       earthquake  \n",
       "...            ...  \n",
       "120103  earthquake  \n",
       "120104  earthquake  \n",
       "120105  earthquake  \n",
       "120106  earthquake  \n",
       "120107  earthquake  \n",
       "\n",
       "[120108 rows x 15 columns]"
      ]
     },
     "execution_count": 4,
     "metadata": {},
     "output_type": "execute_result"
    }
   ],
   "source": [
    "url = 'http://www.ldeo.columbia.edu/~rpa/usgs_earthquakes_2014.csv'\n",
    "data = pd.read_csv(url)\n",
    "data #because a Pandas structure, it prints nicely without print()"
   ]
  },
  {
   "cell_type": "code",
   "execution_count": 6,
   "metadata": {},
   "outputs": [
    {
     "name": "stdout",
     "output_type": "stream",
     "text": [
      "<class 'pandas.core.frame.DataFrame'>\n",
      "RangeIndex: 120108 entries, 0 to 120107\n",
      "Data columns (total 15 columns):\n",
      " #   Column     Non-Null Count   Dtype  \n",
      "---  ------     --------------   -----  \n",
      " 0   time       120108 non-null  object \n",
      " 1   latitude   120108 non-null  float64\n",
      " 2   longitude  120108 non-null  float64\n",
      " 3   depth      120107 non-null  float64\n",
      " 4   mag        120065 non-null  float64\n",
      " 5   magType    120065 non-null  object \n",
      " 6   nst        59688 non-null   float64\n",
      " 7   gap        94935 non-null   float64\n",
      " 8   dmin       85682 non-null   float64\n",
      " 9   rms        119716 non-null  float64\n",
      " 10  net        120108 non-null  object \n",
      " 11  id         120108 non-null  object \n",
      " 12  updated    120108 non-null  object \n",
      " 13  place      120108 non-null  object \n",
      " 14  type       120108 non-null  object \n",
      "dtypes: float64(8), object(7)\n",
      "memory usage: 13.7+ MB\n"
     ]
    }
   ],
   "source": [
    "data.info()"
   ]
  },
  {
   "cell_type": "markdown",
   "metadata": {},
   "source": [
    "You should have seen that the dates were not automatically parsed into datetime types.\n",
    "\n",
    "### 2) Re-read the data in such a way that all date columns are identified as dates and the earthquake ID is used as the index\n",
    "\n",
    "Verify that this worked using the `head` and `info` functions.\n"
   ]
  },
  {
   "cell_type": "code",
   "execution_count": 7,
   "metadata": {},
   "outputs": [],
   "source": [
    "url = 'http://www.ldeo.columbia.edu/~rpa/usgs_earthquakes_2014.csv'\n",
    "catalog = pd.read_csv(url, parse_dates=[0,12],)\n",
    "catalog = catalog.set_index('id')"
   ]
  },
  {
   "cell_type": "code",
   "execution_count": 11,
   "metadata": {
    "scrolled": true
   },
   "outputs": [
    {
     "name": "stdout",
     "output_type": "stream",
     "text": [
      "<class 'pandas.core.frame.DataFrame'>\n",
      "Index: 120108 entries, ak11155107 to ak11453389\n",
      "Data columns (total 14 columns):\n",
      " #   Column     Non-Null Count   Dtype              \n",
      "---  ------     --------------   -----              \n",
      " 0   time       120108 non-null  datetime64[ns]     \n",
      " 1   latitude   120108 non-null  float64            \n",
      " 2   longitude  120108 non-null  float64            \n",
      " 3   depth      120107 non-null  float64            \n",
      " 4   mag        120065 non-null  float64            \n",
      " 5   magType    120065 non-null  object             \n",
      " 6   nst        59688 non-null   float64            \n",
      " 7   gap        94935 non-null   float64            \n",
      " 8   dmin       85682 non-null   float64            \n",
      " 9   rms        119716 non-null  float64            \n",
      " 10  net        120108 non-null  object             \n",
      " 11  updated    120108 non-null  datetime64[ns, UTC]\n",
      " 12  place      120108 non-null  object             \n",
      " 13  type       120108 non-null  object             \n",
      "dtypes: datetime64[ns, UTC](1), datetime64[ns](1), float64(8), object(4)\n",
      "memory usage: 13.7+ MB\n",
      "2014-01-31 23:53:37\n"
     ]
    }
   ],
   "source": [
    "catalog.info()\n",
    "catalog.head()"
   ]
  },
  {
   "cell_type": "code",
   "execution_count": 13,
   "metadata": {},
   "outputs": [
    {
     "name": "stdout",
     "output_type": "stream",
     "text": [
      "2014-01-31 23:53:37\n",
      "2014-01-31 23:53:37\n"
     ]
    }
   ],
   "source": [
    "print(catalog.time.iloc[0])\n",
    "print(catalog.time.loc['ak11155107'])"
   ]
  },
  {
   "cell_type": "markdown",
   "metadata": {},
   "source": [
    "### 3) Use `describe` to get the basic statistics of all the columns\n",
    "\n",
    "Note the highest and lowest magnitude of earthquakes in the databse."
   ]
  },
  {
   "cell_type": "code",
   "execution_count": null,
   "metadata": {},
   "outputs": [],
   "source": []
  },
  {
   "cell_type": "markdown",
   "metadata": {},
   "source": [
    "### 4) Use `nlargest` to get the top 20 earthquakes by magnitude\n",
    "\n",
    "https://pandas.pydata.org/pandas-docs/stable/generated/pandas.Series.nlargest.html"
   ]
  },
  {
   "cell_type": "code",
   "execution_count": null,
   "metadata": {},
   "outputs": [],
   "source": []
  },
  {
   "cell_type": "markdown",
   "metadata": {},
   "source": [
    "Examine the structure of the `place` column. The state / country information seems to be in there. How would you get it out?\n",
    "\n",
    "### 5) Extract the state or country using Pandas [text data functions](https://pandas.pydata.org/pandas-docs/stable/text.html)\n",
    "\n",
    "Add it as a new column to the dataframe called `country`. Note that some of the \"countries\" are actually U.S. states."
   ]
  },
  {
   "cell_type": "code",
   "execution_count": null,
   "metadata": {},
   "outputs": [],
   "source": []
  },
  {
   "cell_type": "markdown",
   "metadata": {},
   "source": [
    "### 6) Display each unique value from the new column\n",
    "\n",
    "https://pandas.pydata.org/pandas-docs/stable/generated/pandas.Series.unique.html"
   ]
  },
  {
   "cell_type": "code",
   "execution_count": null,
   "metadata": {},
   "outputs": [],
   "source": []
  },
  {
   "cell_type": "markdown",
   "metadata": {},
   "source": [
    "### 7) Create a filtered dataset that only has earthquakes of magnitude 4 or larger and"
   ]
  },
  {
   "cell_type": "code",
   "execution_count": null,
   "metadata": {},
   "outputs": [],
   "source": []
  },
  {
   "cell_type": "markdown",
   "metadata": {
    "tags": []
   },
   "source": [
    "### 8) Using the filtered dataset (magnitude > 4), count the number of earthquakes in each country/state. Make a bar chart of this number for the top 5 locations with the most earthquakes\n",
    "\n",
    "Location name on the x axis, Earthquake count on the y axis"
   ]
  },
  {
   "cell_type": "code",
   "execution_count": null,
   "metadata": {},
   "outputs": [],
   "source": []
  },
  {
   "cell_type": "markdown",
   "metadata": {},
   "source": [
    "### 9) Make a histogram the distribution of the Earthquake magnitudes\n",
    "\n",
    "https://pandas.pydata.org/pandas-docs/version/0.23/generated/pandas.DataFrame.hist.html\n",
    "https://matplotlib.org/api/_as_gen/matplotlib.pyplot.hist.html\n",
    "\n",
    "Do one subplot for the filtered and one for the unfiltered dataset.\n",
    "Use a Logarithmic scale. What sort of relationship do you see?"
   ]
  },
  {
   "cell_type": "code",
   "execution_count": null,
   "metadata": {},
   "outputs": [],
   "source": []
  },
  {
   "cell_type": "markdown",
   "metadata": {},
   "source": [
    "### 11) Visualize the locations of earthquakes by making a scatterplot of their latitude and longitude\n",
    "\n",
    "Use a two-column subplot with both the filtered and unfiltered datasets. Color the points by magnitude. Make it pretty\n",
    "\n",
    "What difference do you note between the filtered and unfiltered datasets?"
   ]
  },
  {
   "cell_type": "code",
   "execution_count": null,
   "metadata": {},
   "outputs": [],
   "source": []
  }
 ],
 "metadata": {
  "kernelspec": {
   "display_name": "Python 3 (ipykernel)",
   "language": "python",
   "name": "python3"
  },
  "language_info": {
   "codemirror_mode": {
    "name": "ipython",
    "version": 3
   },
   "file_extension": ".py",
   "mimetype": "text/x-python",
   "name": "python",
   "nbconvert_exporter": "python",
   "pygments_lexer": "ipython3",
   "version": "3.9.12"
  }
 },
 "nbformat": 4,
 "nbformat_minor": 4
}
