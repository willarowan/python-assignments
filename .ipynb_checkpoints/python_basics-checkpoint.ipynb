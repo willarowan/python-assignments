{
 "cells": [
  {
   "cell_type": "markdown",
   "metadata": {},
   "source": [
    "# Assignment 3: Basic Python\n",
    "\n",
    "\n",
    "```{admonition} Learning Goals\n",
    ":class: tip\n",
    "\n",
    "This assignment will verify that you have the following skills:\n",
    "- Create lists and dictionaries\n",
    "- Iterate through lists, tuples, and dictionaries\n",
    "- Index sequences (e.g. lists and tuples)\n",
    "```"
   ]
  },
  {
   "cell_type": "markdown",
   "metadata": {},
   "source": [
    "## Part I: Lists and Loops\n",
    "\n",
    "In this problem, we will explore the basic data structures and flow controls of Python by _manually creating data structures_.\n",
    "\n",
    "\n",
    "```{warning}\n",
    "Pluto is [not a planet any more](https://www.loc.gov/everyday-mysteries/item/why-is-pluto-no-longer-a-planet/).\n",
    "```"
   ]
  },
  {
   "cell_type": "markdown",
   "metadata": {},
   "source": [
    "### 1) Create a list with the names of every planet in the solar system (in order)"
   ]
  },
  {
   "cell_type": "code",
   "execution_count": 15,
   "metadata": {},
   "outputs": [],
   "source": [
    "planets = ['Mercury','Venus','Earth','Mars','Jupiter','Saturn','Uranus','Neptune']"
   ]
  },
  {
   "cell_type": "markdown",
   "metadata": {
    "tags": []
   },
   "source": [
    "### 2) Have Python tell you how many planets there are by examining your list"
   ]
  },
  {
   "cell_type": "code",
   "execution_count": 16,
   "metadata": {},
   "outputs": [
    {
     "data": {
      "text/plain": [
       "8"
      ]
     },
     "execution_count": 16,
     "metadata": {},
     "output_type": "execute_result"
    }
   ],
   "source": [
    "len(planets)"
   ]
  },
  {
   "cell_type": "markdown",
   "metadata": {},
   "source": [
    "### 3) Use slicing to display the first four planets (the rocky planets)"
   ]
  },
  {
   "cell_type": "code",
   "execution_count": 17,
   "metadata": {},
   "outputs": [
    {
     "name": "stdout",
     "output_type": "stream",
     "text": [
      "['Mercury', 'Venus', 'Earth', 'Mars']\n"
     ]
    },
    {
     "data": {
      "text/plain": [
       "['Mercury', 'Venus', 'Earth', 'Mars']"
      ]
     },
     "execution_count": 17,
     "metadata": {},
     "output_type": "execute_result"
    }
   ],
   "source": [
    "print(planets[0:4])\n",
    "#don't actually need print(), this works:\n",
    "planets[0:4]"
   ]
  },
  {
   "cell_type": "markdown",
   "metadata": {},
   "source": [
    "### 4) Iterate through your planets and print the planet name only if it has an `s` at the end"
   ]
  },
  {
   "cell_type": "code",
   "execution_count": 18,
   "metadata": {},
   "outputs": [
    {
     "name": "stdout",
     "output_type": "stream",
     "text": [
      "['Venus', 'Mars']\n",
      "Uranus\n"
     ]
    }
   ],
   "source": [
    "for i in planets[1:4:2],planets[6]: #There is probably a more elegant way to do this but I just can't figure out the syntax\n",
    "    print(i)"
   ]
  },
  {
   "cell_type": "code",
   "execution_count": 19,
   "metadata": {},
   "outputs": [
    {
     "name": "stdout",
     "output_type": "stream",
     "text": [
      "Venus\n",
      "Mars\n",
      "Uranus\n"
     ]
    }
   ],
   "source": [
    "#learned this from Emily in class\n",
    "for i in planets:\n",
    "    if i[-1] == 's':\n",
    "        print(i)"
   ]
  },
  {
   "cell_type": "markdown",
   "metadata": {},
   "source": [
    "## Part II: Dictionaries\n",
    "\n",
    "### 1) Now create a dictionary that maps each planet name to its mass\n",
    "\n",
    "You can use values from this [NASA fact sheet](https://nssdc.gsfc.nasa.gov/planetary/factsheet/).\n",
    "You can use whatever units you want, but be consistent."
   ]
  },
  {
   "cell_type": "code",
   "execution_count": 20,
   "metadata": {},
   "outputs": [
    {
     "data": {
      "text/plain": [
       "{'Mercury': 0.33,\n",
       " 'Venus': 4.87,\n",
       " 'Earth': 5.97,\n",
       " 'Mars': 0.642,\n",
       " 'Jupiter': 1898,\n",
       " 'Saturn': 568,\n",
       " 'Uranus': 86.8,\n",
       " 'Neptune': 102}"
      ]
     },
     "execution_count": 20,
     "metadata": {},
     "output_type": "execute_result"
    }
   ],
   "source": [
    "planets_mass = {'Mercury':0.33,'Venus':4.87,'Earth':5.97,'Mars':0.642,'Jupiter':1898,'Saturn':568,'Uranus':86.8,'Neptune':102}\n",
    "planets_mass"
   ]
  },
  {
   "cell_type": "markdown",
   "metadata": {},
   "source": [
    "### 2) Use your dictionary to look up Earth's mass"
   ]
  },
  {
   "cell_type": "code",
   "execution_count": 21,
   "metadata": {},
   "outputs": [
    {
     "name": "stdout",
     "output_type": "stream",
     "text": [
      "5.97\n"
     ]
    }
   ],
   "source": [
    "print(planets_mass['Earth'])"
   ]
  },
  {
   "cell_type": "markdown",
   "metadata": {
    "tags": []
   },
   "source": [
    "### 3) Loop through the data and create a list of planets whose mast is greater than 100 x 10^24 kg \n",
    "\n",
    "Display your result"
   ]
  },
  {
   "cell_type": "code",
   "execution_count": 22,
   "metadata": {},
   "outputs": [
    {
     "name": "stdout",
     "output_type": "stream",
     "text": [
      "['Jupiter', 'Saturn', 'Neptune']\n"
     ]
    }
   ],
   "source": [
    "big_planets = list(dict((k, v) for k, v in planets_mass.items() if v > 100))\n",
    "print(big_planets)"
   ]
  },
  {
   "cell_type": "code",
   "execution_count": 23,
   "metadata": {},
   "outputs": [
    {
     "name": "stdout",
     "output_type": "stream",
     "text": [
      "['Jupiter', 'Saturn', 'Neptune']\n"
     ]
    }
   ],
   "source": [
    "#learned from Emily in class\n",
    "bplanets = []\n",
    "for planet in planets_mass:\n",
    "    if planets_mass[planet] > 100:\n",
    "        bplanets.append(planet)\n",
    "        \n",
    "print(bplanets)"
   ]
  },
  {
   "cell_type": "markdown",
   "metadata": {},
   "source": [
    "### 4) Now add pluto to your dictionary"
   ]
  },
  {
   "cell_type": "code",
   "execution_count": 28,
   "metadata": {},
   "outputs": [
    {
     "name": "stdout",
     "output_type": "stream",
     "text": [
      "{'Mercury': 0.33, 'Venus': 4.87, 'Earth': 5.97, 'Mars': 0.642, 'Jupiter': 1898, 'Saturn': 568, 'Uranus': 86.8, 'Neptune': 102, 'Pluto': 0.013}\n"
     ]
    }
   ],
   "source": [
    "planets_mass['Pluto']=0.013\n",
    "print(planets_mass)"
   ]
  },
  {
   "cell_type": "code",
   "execution_count": null,
   "metadata": {},
   "outputs": [],
   "source": []
  }
 ],
 "metadata": {
  "kernelspec": {
   "display_name": "Python 3 (ipykernel)",
   "language": "python",
   "name": "python3"
  },
  "language_info": {
   "codemirror_mode": {
    "name": "ipython",
    "version": 3
   },
   "file_extension": ".py",
   "mimetype": "text/x-python",
   "name": "python",
   "nbconvert_exporter": "python",
   "pygments_lexer": "ipython3",
   "version": "3.9.7"
  }
 },
 "nbformat": 4,
 "nbformat_minor": 4
}
